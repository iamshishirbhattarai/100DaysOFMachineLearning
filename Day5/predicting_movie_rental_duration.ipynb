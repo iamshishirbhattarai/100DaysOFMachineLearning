{
 "cells": [
  {
   "cell_type": "markdown",
   "id": "b4ae5707-109f-4cd6-8168-88cac0179d6b",
   "metadata": {},
   "source": [
    "A DVD rental company needs your help! They want to figure out how many days a customer will rent a DVD for based on some features and has approached you for help. They want you to try out some regression models which will help predict the number of days a customer will rent a DVD for. The company wants a model which yeilds a MSE of 3 or less on a test set. The model you make will help the company become more efficient inventory planning.\n",
    "\n",
    "The data they provided is in the csv file `rental_info.csv`. It has the following features:\n",
    "- `\"rental_date\"`: The date (and time) the customer rents the DVD.\n",
    "- `\"return_date\"`: The date (and time) the customer returns the DVD.\n",
    "- `\"amount\"`: The amount paid by the customer for renting the DVD.\n",
    "- `\"amount_2\"`: The square of `\"amount\"`.\n",
    "- `\"rental_rate\"`: The rate at which the DVD is rented for.\n",
    "- `\"rental_rate_2\"`: The square of `\"rental_rate\"`.\n",
    "- `\"release_year\"`: The year the movie being rented was released.\n",
    "- `\"length\"`: Lenght of the movie being rented, in minuites.\n",
    "- `\"length_2\"`: The square of `\"length\"`.\n",
    "- `\"replacement_cost\"`: The amount it will cost the company to replace the DVD.\n",
    "- `\"special_features\"`: Any special features, for example trailers/deleted scenes that the DVD also has.\n",
    "- `\"NC-17\"`, `\"PG\"`, `\"PG-13\"`, `\"R\"`: These columns are dummy variables of the rating of the movie. It takes the value 1 if the move is rated as the column name and 0 otherwise. For your convinience, the reference dummy has already been dropped."
   ]
  },
  {
   "cell_type": "code",
   "execution_count": 4,
   "id": "a7ede566-910a-445c-b11a-68d192ac8506",
   "metadata": {
    "executionCancelledAt": null,
    "executionTime": 10,
    "lastExecutedAt": 1723975715531,
    "lastExecutedByKernel": "d2c08d81-b94f-466c-8de8-5f3d66f0d4e2",
    "lastScheduledRunId": null,
    "lastSuccessfullyExecutedCode": "import pandas as pd\nimport numpy as np\n\nfrom sklearn.model_selection import train_test_split\nfrom sklearn.metrics import mean_squared_error\n\n# Import any additional modules and start coding below"
   },
   "outputs": [],
   "source": [
    "import pandas as pd\n",
    "import numpy as np\n",
    "\n",
    "from sklearn.model_selection import train_test_split\n",
    "from sklearn.metrics import mean_squared_error\n",
    "\n",
    "# Import any additional modules and start coding below"
   ]
  },
  {
   "cell_type": "code",
   "execution_count": 5,
   "id": "6729b3d1-2f16-4cf1-90af-e8c98eb03d31",
   "metadata": {
    "executionCancelledAt": null,
    "executionTime": 72,
    "lastExecutedAt": 1723975715603,
    "lastExecutedByKernel": "d2c08d81-b94f-466c-8de8-5f3d66f0d4e2",
    "lastScheduledRunId": null,
    "lastSuccessfullyExecutedCode": "#Reading the file\nrental = pd.read_csv('rental_info.csv')\nrental.head()",
    "outputsMetadata": {
     "0": {
      "height": 196,
      "type": "dataFrame"
     }
    }
   },
   "outputs": [
    {
     "data": {
      "text/html": [
       "<div>\n",
       "<style scoped>\n",
       "    .dataframe tbody tr th:only-of-type {\n",
       "        vertical-align: middle;\n",
       "    }\n",
       "\n",
       "    .dataframe tbody tr th {\n",
       "        vertical-align: top;\n",
       "    }\n",
       "\n",
       "    .dataframe thead th {\n",
       "        text-align: right;\n",
       "    }\n",
       "</style>\n",
       "<table border=\"1\" class=\"dataframe\">\n",
       "  <thead>\n",
       "    <tr style=\"text-align: right;\">\n",
       "      <th></th>\n",
       "      <th>rental_date</th>\n",
       "      <th>return_date</th>\n",
       "      <th>amount</th>\n",
       "      <th>release_year</th>\n",
       "      <th>rental_rate</th>\n",
       "      <th>length</th>\n",
       "      <th>replacement_cost</th>\n",
       "      <th>special_features</th>\n",
       "      <th>NC-17</th>\n",
       "      <th>PG</th>\n",
       "      <th>PG-13</th>\n",
       "      <th>R</th>\n",
       "      <th>amount_2</th>\n",
       "      <th>length_2</th>\n",
       "      <th>rental_rate_2</th>\n",
       "    </tr>\n",
       "  </thead>\n",
       "  <tbody>\n",
       "    <tr>\n",
       "      <th>0</th>\n",
       "      <td>2005-05-25 02:54:33+00:00</td>\n",
       "      <td>2005-05-28 23:40:33+00:00</td>\n",
       "      <td>2.99</td>\n",
       "      <td>2005.0</td>\n",
       "      <td>2.99</td>\n",
       "      <td>126.0</td>\n",
       "      <td>16.99</td>\n",
       "      <td>{Trailers,\"Behind the Scenes\"}</td>\n",
       "      <td>0</td>\n",
       "      <td>0</td>\n",
       "      <td>0</td>\n",
       "      <td>1</td>\n",
       "      <td>8.9401</td>\n",
       "      <td>15876.0</td>\n",
       "      <td>8.9401</td>\n",
       "    </tr>\n",
       "    <tr>\n",
       "      <th>1</th>\n",
       "      <td>2005-06-15 23:19:16+00:00</td>\n",
       "      <td>2005-06-18 19:24:16+00:00</td>\n",
       "      <td>2.99</td>\n",
       "      <td>2005.0</td>\n",
       "      <td>2.99</td>\n",
       "      <td>126.0</td>\n",
       "      <td>16.99</td>\n",
       "      <td>{Trailers,\"Behind the Scenes\"}</td>\n",
       "      <td>0</td>\n",
       "      <td>0</td>\n",
       "      <td>0</td>\n",
       "      <td>1</td>\n",
       "      <td>8.9401</td>\n",
       "      <td>15876.0</td>\n",
       "      <td>8.9401</td>\n",
       "    </tr>\n",
       "    <tr>\n",
       "      <th>2</th>\n",
       "      <td>2005-07-10 04:27:45+00:00</td>\n",
       "      <td>2005-07-17 10:11:45+00:00</td>\n",
       "      <td>2.99</td>\n",
       "      <td>2005.0</td>\n",
       "      <td>2.99</td>\n",
       "      <td>126.0</td>\n",
       "      <td>16.99</td>\n",
       "      <td>{Trailers,\"Behind the Scenes\"}</td>\n",
       "      <td>0</td>\n",
       "      <td>0</td>\n",
       "      <td>0</td>\n",
       "      <td>1</td>\n",
       "      <td>8.9401</td>\n",
       "      <td>15876.0</td>\n",
       "      <td>8.9401</td>\n",
       "    </tr>\n",
       "    <tr>\n",
       "      <th>3</th>\n",
       "      <td>2005-07-31 12:06:41+00:00</td>\n",
       "      <td>2005-08-02 14:30:41+00:00</td>\n",
       "      <td>2.99</td>\n",
       "      <td>2005.0</td>\n",
       "      <td>2.99</td>\n",
       "      <td>126.0</td>\n",
       "      <td>16.99</td>\n",
       "      <td>{Trailers,\"Behind the Scenes\"}</td>\n",
       "      <td>0</td>\n",
       "      <td>0</td>\n",
       "      <td>0</td>\n",
       "      <td>1</td>\n",
       "      <td>8.9401</td>\n",
       "      <td>15876.0</td>\n",
       "      <td>8.9401</td>\n",
       "    </tr>\n",
       "    <tr>\n",
       "      <th>4</th>\n",
       "      <td>2005-08-19 12:30:04+00:00</td>\n",
       "      <td>2005-08-23 13:35:04+00:00</td>\n",
       "      <td>2.99</td>\n",
       "      <td>2005.0</td>\n",
       "      <td>2.99</td>\n",
       "      <td>126.0</td>\n",
       "      <td>16.99</td>\n",
       "      <td>{Trailers,\"Behind the Scenes\"}</td>\n",
       "      <td>0</td>\n",
       "      <td>0</td>\n",
       "      <td>0</td>\n",
       "      <td>1</td>\n",
       "      <td>8.9401</td>\n",
       "      <td>15876.0</td>\n",
       "      <td>8.9401</td>\n",
       "    </tr>\n",
       "  </tbody>\n",
       "</table>\n",
       "</div>"
      ],
      "text/plain": [
       "                 rental_date                return_date  amount  release_year  \\\n",
       "0  2005-05-25 02:54:33+00:00  2005-05-28 23:40:33+00:00    2.99        2005.0   \n",
       "1  2005-06-15 23:19:16+00:00  2005-06-18 19:24:16+00:00    2.99        2005.0   \n",
       "2  2005-07-10 04:27:45+00:00  2005-07-17 10:11:45+00:00    2.99        2005.0   \n",
       "3  2005-07-31 12:06:41+00:00  2005-08-02 14:30:41+00:00    2.99        2005.0   \n",
       "4  2005-08-19 12:30:04+00:00  2005-08-23 13:35:04+00:00    2.99        2005.0   \n",
       "\n",
       "   rental_rate  length  replacement_cost                special_features  \\\n",
       "0         2.99   126.0             16.99  {Trailers,\"Behind the Scenes\"}   \n",
       "1         2.99   126.0             16.99  {Trailers,\"Behind the Scenes\"}   \n",
       "2         2.99   126.0             16.99  {Trailers,\"Behind the Scenes\"}   \n",
       "3         2.99   126.0             16.99  {Trailers,\"Behind the Scenes\"}   \n",
       "4         2.99   126.0             16.99  {Trailers,\"Behind the Scenes\"}   \n",
       "\n",
       "   NC-17  PG  PG-13  R  amount_2  length_2  rental_rate_2  \n",
       "0      0   0      0  1    8.9401   15876.0         8.9401  \n",
       "1      0   0      0  1    8.9401   15876.0         8.9401  \n",
       "2      0   0      0  1    8.9401   15876.0         8.9401  \n",
       "3      0   0      0  1    8.9401   15876.0         8.9401  \n",
       "4      0   0      0  1    8.9401   15876.0         8.9401  "
      ]
     },
     "execution_count": 5,
     "metadata": {},
     "output_type": "execute_result"
    }
   ],
   "source": [
    "#Reading the file\n",
    "rental = pd.read_csv('rental_info.csv')\n",
    "rental.head()"
   ]
  },
  {
   "cell_type": "code",
   "execution_count": 6,
   "id": "36d2c220-eff3-4c52-b0a3-7ba58eb094b9",
   "metadata": {
    "executionCancelledAt": null,
    "executionTime": 61,
    "lastExecutedAt": 1723975715664,
    "lastExecutedByKernel": "d2c08d81-b94f-466c-8de8-5f3d66f0d4e2",
    "lastScheduledRunId": null,
    "lastSuccessfullyExecutedCode": "rental['rental_length_days'] = (pd.to_datetime(rental['return_date']) - pd.to_datetime(rental['rental_date'])).dt.days\nrental['rental_length_days'].head()",
    "outputsMetadata": {
     "0": {
      "height": 196,
      "type": "dataFrame"
     }
    }
   },
   "outputs": [
    {
     "data": {
      "text/plain": [
       "0    3\n",
       "1    2\n",
       "2    7\n",
       "3    2\n",
       "4    4\n",
       "Name: rental_length_days, dtype: int64"
      ]
     },
     "execution_count": 6,
     "metadata": {},
     "output_type": "execute_result"
    }
   ],
   "source": [
    "rental['rental_length_days'] = (pd.to_datetime(rental['return_date']) - pd.to_datetime(rental['rental_date'])).dt.days\n",
    "rental['rental_length_days'].head()"
   ]
  },
  {
   "cell_type": "code",
   "execution_count": 7,
   "id": "4f32952e-1759-4919-9483-c756e684cb5c",
   "metadata": {
    "chartConfig": {
     "bar": {
      "hasRoundedCorners": true,
      "stacked": false
     },
     "type": "bar",
     "version": "v1"
    },
    "executionCancelledAt": null,
    "executionTime": 60,
    "lastExecutedAt": 1723975715724,
    "lastExecutedByKernel": "d2c08d81-b94f-466c-8de8-5f3d66f0d4e2",
    "lastScheduledRunId": null,
    "lastSuccessfullyExecutedCode": "rental['deleted_scenes'] = np.where(rental[\"special_features\"].str.contains(\"Deleted Scenes\"),1,0)\nrental['deleted_scenes'].head()\nrental['behind_the_scenes'] = np.where(rental['special_features'].str.contains(\"Behind the Scenes\"), 1, 0)\nrental['behind_the_scenes'].head()",
    "outputsMetadata": {
     "0": {
      "height": 196,
      "type": "dataFrame"
     }
    },
    "visualizeDataframe": false
   },
   "outputs": [
    {
     "data": {
      "text/plain": [
       "0    1\n",
       "1    1\n",
       "2    1\n",
       "3    1\n",
       "4    1\n",
       "Name: behind_the_scenes, dtype: int64"
      ]
     },
     "execution_count": 7,
     "metadata": {},
     "output_type": "execute_result"
    }
   ],
   "source": [
    "rental['deleted_scenes'] = np.where(rental[\"special_features\"].str.contains(\"Deleted Scenes\"),1,0)\n",
    "rental['deleted_scenes'].head()\n",
    "rental['behind_the_scenes'] = np.where(rental['special_features'].str.contains(\"Behind the Scenes\"), 1, 0)\n",
    "rental['behind_the_scenes'].head()"
   ]
  },
  {
   "cell_type": "code",
   "execution_count": 8,
   "id": "2f470b80-c2aa-4d51-b65f-a47e81526dbd",
   "metadata": {
    "executionCancelledAt": null,
    "executionTime": 57,
    "lastExecutedAt": 1723975715781,
    "lastExecutedByKernel": "d2c08d81-b94f-466c-8de8-5f3d66f0d4e2",
    "lastScheduledRunId": null,
    "lastSuccessfullyExecutedCode": "#Separating features and target values\nX = rental.drop(['rental_length_days','special_features','rental_date', 'return_date'], axis = 1)\ny = rental['rental_length_days'].copy()\nprint(X, y)",
    "outputsMetadata": {
     "0": {
      "height": 542,
      "type": "stream"
     }
    }
   },
   "outputs": [],
   "source": [
    "#Separating features and target values\n",
    "X = rental.drop(['rental_length_days','special_features','rental_date', 'return_date'], axis = 1)\n",
    "y = rental['rental_length_days'].copy()"
   ]
  },
  {
   "cell_type": "code",
   "execution_count": 9,
   "id": "ba44b105-1b62-4ea7-9bd1-1db8a40534bd",
   "metadata": {
    "executionCancelledAt": null,
    "executionTime": 51,
    "lastExecutedAt": 1723975715832,
    "lastExecutedByKernel": "d2c08d81-b94f-466c-8de8-5f3d66f0d4e2",
    "lastScheduledRunId": null,
    "lastSuccessfullyExecutedCode": "#train_test_split\nX_train, X_test, y_train, y_test = train_test_split(X, y, test_size = 0.2, random_state =42)"
   },
   "outputs": [],
   "source": [
    "#train_test_split\n",
    "X_train, X_test, y_train, y_test = train_test_split(X, y, test_size = 0.2, random_state =42)"
   ]
  },
  {
   "cell_type": "code",
   "execution_count": 10,
   "id": "377d7b20-0a8b-43d8-a675-690e3dac6b11",
   "metadata": {
    "executionCancelledAt": null,
    "executionTime": 281,
    "lastExecutedAt": 1723975716113,
    "lastExecutedByKernel": "d2c08d81-b94f-466c-8de8-5f3d66f0d4e2",
    "lastScheduledRunId": null,
    "lastSuccessfullyExecutedCode": "#Performing Feature Selection\nfrom sklearn.linear_model import Lasso\n\nlasso = Lasso(alpha = 0.1, random_state = 9)\nlasso.fit(X_train, y_train)\nlasso_coef = lasso.coef_\n\nX_lasso_train, X_lasso_test = X_train.iloc[:, lasso_coef > 0], X_test.iloc[:, lasso_coef > 0]"
   },
   "outputs": [],
   "source": [
    "#Performing Feature Selection\n",
    "from sklearn.linear_model import Lasso\n",
    "\n",
    "lasso = Lasso(alpha = 0.1, random_state = 9)\n",
    "lasso.fit(X_train, y_train)\n",
    "lasso_coef = lasso.coef_\n",
    "\n",
    "X_lasso_train, X_lasso_test = X_train.iloc[:, lasso_coef > 0], X_test.iloc[:, lasso_coef > 0]"
   ]
  },
  {
   "cell_type": "code",
   "execution_count": 11,
   "id": "dc69e469-05f7-4e5b-8c11-8e170b857459",
   "metadata": {
    "executionCancelledAt": null,
    "executionTime": 100,
    "lastExecutedAt": 1723975716214,
    "lastExecutedByKernel": "d2c08d81-b94f-466c-8de8-5f3d66f0d4e2",
    "lastScheduledRunId": null,
    "lastSuccessfullyExecutedCode": "#Linear Regression model\nfrom sklearn.linear_model import LinearRegression\n\nlinear_reg = LinearRegression()\nlinear_reg.fit(X_lasso_train, y_train)\nlinear_predictions = linear_reg.predict(X_lasso_test)\nlinear_mse = mean_squared_error(y_test, linear_predictions) \nlinear_mse"
   },
   "outputs": [
    {
     "data": {
      "text/plain": [
       "4.856095723959099"
      ]
     },
     "execution_count": 11,
     "metadata": {},
     "output_type": "execute_result"
    }
   ],
   "source": [
    "#Linear Regression model\n",
    "from sklearn.linear_model import LinearRegression\n",
    "\n",
    "linear_reg = LinearRegression()\n",
    "linear_reg.fit(X_lasso_train, y_train)\n",
    "linear_predictions = linear_reg.predict(X_lasso_test)\n",
    "linear_mse = mean_squared_error(y_test, linear_predictions) \n",
    "linear_mse"
   ]
  },
  {
   "cell_type": "code",
   "execution_count": 12,
   "id": "bd90c358-cb09-4211-b850-c3848533434d",
   "metadata": {
    "executionCancelledAt": null,
    "executionTime": 28602,
    "lastExecutedAt": 1723975744816,
    "lastExecutedByKernel": "d2c08d81-b94f-466c-8de8-5f3d66f0d4e2",
    "lastScheduledRunId": null,
    "lastSuccessfullyExecutedCode": "#Random forest model\nfrom sklearn.ensemble import RandomForestRegressor\nfrom sklearn.model_selection import RandomizedSearchCV\nimport numpy as np\n\nparam_dist = {\n    'n_estimators' :  np.arange(1, 101, 1),\n    'max_depth' : np.arange(1, 11, 1)\n}\n\nrf = RandomForestRegressor()\nrand_search = RandomizedSearchCV(rf, param_distributions=param_dist, cv = 6, random_state = 9)\nrand_search.fit(X_train, y_train)\nhyper_params = rand_search.best_params_\nrf = RandomForestRegressor(n_estimators = hyper_params['n_estimators'],\n                          max_depth = hyper_params['max_depth'],\n                          random_state= 9)\nrf.fit(X_train, y_train)\nrf_predictions = rf.predict(X_test)\nrf_mse = mean_squared_error(y_test, rf_predictions)\nrf_mse"
   },
   "outputs": [
    {
     "data": {
      "text/plain": [
       "2.136758362052645"
      ]
     },
     "execution_count": 12,
     "metadata": {},
     "output_type": "execute_result"
    }
   ],
   "source": [
    "#Random forest model\n",
    "from sklearn.ensemble import RandomForestRegressor\n",
    "from sklearn.model_selection import RandomizedSearchCV\n",
    "import numpy as np\n",
    "\n",
    "param_dist = {\n",
    "    'n_estimators' :  np.arange(1, 101, 1),\n",
    "    'max_depth' : np.arange(1, 11, 1)\n",
    "}\n",
    "\n",
    "rf = RandomForestRegressor()\n",
    "rand_search = RandomizedSearchCV(rf, param_distributions=param_dist, cv = 6, random_state = 9)\n",
    "rand_search.fit(X_train, y_train)\n",
    "hyper_params = rand_search.best_params_\n",
    "rf = RandomForestRegressor(n_estimators = hyper_params['n_estimators'],\n",
    "                          max_depth = hyper_params['max_depth'],\n",
    "                          random_state= 9)\n",
    "rf.fit(X_train, y_train)\n",
    "rf_predictions = rf.predict(X_test)\n",
    "rf_mse = mean_squared_error(y_test, rf_predictions)\n",
    "rf_mse"
   ]
  },
  {
   "cell_type": "code",
   "execution_count": 13,
   "id": "95ec9a1a-c785-4bc9-bbdb-89a2b80eb629",
   "metadata": {
    "executionCancelledAt": null,
    "executionTime": 55,
    "lastExecutedAt": 1723975744872,
    "lastExecutedByKernel": "d2c08d81-b94f-466c-8de8-5f3d66f0d4e2",
    "lastScheduledRunId": null,
    "lastSuccessfullyExecutedCode": "best_model = rf\nbest_mse = rf_mse"
   },
   "outputs": [],
   "source": [
    "best_model = rf\n",
    "best_mse = rf_mse"
   ]
  }
 ],
 "metadata": {
  "colab": {
   "name": "Welcome to DataCamp Workspaces.ipynb",
   "provenance": []
  },
  "kernelspec": {
   "display_name": "Python 3 (ipykernel)",
   "language": "python",
   "name": "python3"
  },
  "language_info": {
   "codemirror_mode": {
    "name": "ipython",
    "version": 3
   },
   "file_extension": ".py",
   "mimetype": "text/x-python",
   "name": "python",
   "nbconvert_exporter": "python",
   "pygments_lexer": "ipython3",
   "version": "3.12.1"
  }
 },
 "nbformat": 4,
 "nbformat_minor": 5
}
